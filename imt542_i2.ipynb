{
  "nbformat": 4,
  "nbformat_minor": 0,
  "metadata": {
    "colab": {
      "provenance": [],
      "include_colab_link": true
    },
    "kernelspec": {
      "name": "python3",
      "display_name": "Python 3"
    },
    "language_info": {
      "name": "python"
    }
  },
  "cells": [
    {
      "cell_type": "markdown",
      "metadata": {
        "id": "view-in-github",
        "colab_type": "text"
      },
      "source": [
        "<a href=\"https://colab.research.google.com/github/CFF-Stack/IMT-542-I3/blob/main/imt542_i2.ipynb\" target=\"_parent\"><img src=\"https://colab.research.google.com/assets/colab-badge.svg\" alt=\"Open In Colab\"/></a>"
      ]
    },
    {
      "cell_type": "code",
      "execution_count": null,
      "metadata": {
        "id": "e-2tyZQULtaA"
      },
      "outputs": [],
      "source": [
        "import json\n",
        "\n",
        "def read_json_file(filename):\n",
        "    with open(filename) as file:\n",
        "        data = json.load(file)\n",
        "    return data"
      ]
    },
    {
      "cell_type": "code",
      "source": [
        "from google.colab import files\n",
        "\n",
        "uploaded = files.upload()\n",
        "\n",
        "for fn in uploaded.keys():\n",
        "  print('User uploaded file \"{name}\" with length {length} bytes'.format(\n",
        "      name=fn, length=len(uploaded[fn])))"
      ],
      "metadata": {
        "colab": {
          "base_uri": "https://localhost:8080/",
          "height": 90
        },
        "id": "urE_aKEKUSpT",
        "outputId": "da044a52-1917-4c09-d988-712a36f63115"
      },
      "execution_count": null,
      "outputs": [
        {
          "output_type": "display_data",
          "data": {
            "text/plain": [
              "<IPython.core.display.HTML object>"
            ],
            "text/html": [
              "\n",
              "     <input type=\"file\" id=\"files-2cf76f71-e8b3-4734-850e-75a3a56a451a\" name=\"files[]\" multiple disabled\n",
              "        style=\"border:none\" />\n",
              "     <output id=\"result-2cf76f71-e8b3-4734-850e-75a3a56a451a\">\n",
              "      Upload widget is only available when the cell has been executed in the\n",
              "      current browser session. Please rerun this cell to enable.\n",
              "      </output>\n",
              "      <script>// Copyright 2017 Google LLC\n",
              "//\n",
              "// Licensed under the Apache License, Version 2.0 (the \"License\");\n",
              "// you may not use this file except in compliance with the License.\n",
              "// You may obtain a copy of the License at\n",
              "//\n",
              "//      http://www.apache.org/licenses/LICENSE-2.0\n",
              "//\n",
              "// Unless required by applicable law or agreed to in writing, software\n",
              "// distributed under the License is distributed on an \"AS IS\" BASIS,\n",
              "// WITHOUT WARRANTIES OR CONDITIONS OF ANY KIND, either express or implied.\n",
              "// See the License for the specific language governing permissions and\n",
              "// limitations under the License.\n",
              "\n",
              "/**\n",
              " * @fileoverview Helpers for google.colab Python module.\n",
              " */\n",
              "(function(scope) {\n",
              "function span(text, styleAttributes = {}) {\n",
              "  const element = document.createElement('span');\n",
              "  element.textContent = text;\n",
              "  for (const key of Object.keys(styleAttributes)) {\n",
              "    element.style[key] = styleAttributes[key];\n",
              "  }\n",
              "  return element;\n",
              "}\n",
              "\n",
              "// Max number of bytes which will be uploaded at a time.\n",
              "const MAX_PAYLOAD_SIZE = 100 * 1024;\n",
              "\n",
              "function _uploadFiles(inputId, outputId) {\n",
              "  const steps = uploadFilesStep(inputId, outputId);\n",
              "  const outputElement = document.getElementById(outputId);\n",
              "  // Cache steps on the outputElement to make it available for the next call\n",
              "  // to uploadFilesContinue from Python.\n",
              "  outputElement.steps = steps;\n",
              "\n",
              "  return _uploadFilesContinue(outputId);\n",
              "}\n",
              "\n",
              "// This is roughly an async generator (not supported in the browser yet),\n",
              "// where there are multiple asynchronous steps and the Python side is going\n",
              "// to poll for completion of each step.\n",
              "// This uses a Promise to block the python side on completion of each step,\n",
              "// then passes the result of the previous step as the input to the next step.\n",
              "function _uploadFilesContinue(outputId) {\n",
              "  const outputElement = document.getElementById(outputId);\n",
              "  const steps = outputElement.steps;\n",
              "\n",
              "  const next = steps.next(outputElement.lastPromiseValue);\n",
              "  return Promise.resolve(next.value.promise).then((value) => {\n",
              "    // Cache the last promise value to make it available to the next\n",
              "    // step of the generator.\n",
              "    outputElement.lastPromiseValue = value;\n",
              "    return next.value.response;\n",
              "  });\n",
              "}\n",
              "\n",
              "/**\n",
              " * Generator function which is called between each async step of the upload\n",
              " * process.\n",
              " * @param {string} inputId Element ID of the input file picker element.\n",
              " * @param {string} outputId Element ID of the output display.\n",
              " * @return {!Iterable<!Object>} Iterable of next steps.\n",
              " */\n",
              "function* uploadFilesStep(inputId, outputId) {\n",
              "  const inputElement = document.getElementById(inputId);\n",
              "  inputElement.disabled = false;\n",
              "\n",
              "  const outputElement = document.getElementById(outputId);\n",
              "  outputElement.innerHTML = '';\n",
              "\n",
              "  const pickedPromise = new Promise((resolve) => {\n",
              "    inputElement.addEventListener('change', (e) => {\n",
              "      resolve(e.target.files);\n",
              "    });\n",
              "  });\n",
              "\n",
              "  const cancel = document.createElement('button');\n",
              "  inputElement.parentElement.appendChild(cancel);\n",
              "  cancel.textContent = 'Cancel upload';\n",
              "  const cancelPromise = new Promise((resolve) => {\n",
              "    cancel.onclick = () => {\n",
              "      resolve(null);\n",
              "    };\n",
              "  });\n",
              "\n",
              "  // Wait for the user to pick the files.\n",
              "  const files = yield {\n",
              "    promise: Promise.race([pickedPromise, cancelPromise]),\n",
              "    response: {\n",
              "      action: 'starting',\n",
              "    }\n",
              "  };\n",
              "\n",
              "  cancel.remove();\n",
              "\n",
              "  // Disable the input element since further picks are not allowed.\n",
              "  inputElement.disabled = true;\n",
              "\n",
              "  if (!files) {\n",
              "    return {\n",
              "      response: {\n",
              "        action: 'complete',\n",
              "      }\n",
              "    };\n",
              "  }\n",
              "\n",
              "  for (const file of files) {\n",
              "    const li = document.createElement('li');\n",
              "    li.append(span(file.name, {fontWeight: 'bold'}));\n",
              "    li.append(span(\n",
              "        `(${file.type || 'n/a'}) - ${file.size} bytes, ` +\n",
              "        `last modified: ${\n",
              "            file.lastModifiedDate ? file.lastModifiedDate.toLocaleDateString() :\n",
              "                                    'n/a'} - `));\n",
              "    const percent = span('0% done');\n",
              "    li.appendChild(percent);\n",
              "\n",
              "    outputElement.appendChild(li);\n",
              "\n",
              "    const fileDataPromise = new Promise((resolve) => {\n",
              "      const reader = new FileReader();\n",
              "      reader.onload = (e) => {\n",
              "        resolve(e.target.result);\n",
              "      };\n",
              "      reader.readAsArrayBuffer(file);\n",
              "    });\n",
              "    // Wait for the data to be ready.\n",
              "    let fileData = yield {\n",
              "      promise: fileDataPromise,\n",
              "      response: {\n",
              "        action: 'continue',\n",
              "      }\n",
              "    };\n",
              "\n",
              "    // Use a chunked sending to avoid message size limits. See b/62115660.\n",
              "    let position = 0;\n",
              "    do {\n",
              "      const length = Math.min(fileData.byteLength - position, MAX_PAYLOAD_SIZE);\n",
              "      const chunk = new Uint8Array(fileData, position, length);\n",
              "      position += length;\n",
              "\n",
              "      const base64 = btoa(String.fromCharCode.apply(null, chunk));\n",
              "      yield {\n",
              "        response: {\n",
              "          action: 'append',\n",
              "          file: file.name,\n",
              "          data: base64,\n",
              "        },\n",
              "      };\n",
              "\n",
              "      let percentDone = fileData.byteLength === 0 ?\n",
              "          100 :\n",
              "          Math.round((position / fileData.byteLength) * 100);\n",
              "      percent.textContent = `${percentDone}% done`;\n",
              "\n",
              "    } while (position < fileData.byteLength);\n",
              "  }\n",
              "\n",
              "  // All done.\n",
              "  yield {\n",
              "    response: {\n",
              "      action: 'complete',\n",
              "    }\n",
              "  };\n",
              "}\n",
              "\n",
              "scope.google = scope.google || {};\n",
              "scope.google.colab = scope.google.colab || {};\n",
              "scope.google.colab._files = {\n",
              "  _uploadFiles,\n",
              "  _uploadFilesContinue,\n",
              "};\n",
              "})(self);\n",
              "</script> "
            ]
          },
          "metadata": {}
        },
        {
          "output_type": "stream",
          "name": "stdout",
          "text": [
            "Saving sbir-search-results.json to sbir-search-results (1).json\n",
            "User uploaded file \"sbir-search-results (1).json\" with length 890221 bytes\n"
          ]
        }
      ]
    },
    {
      "cell_type": "code",
      "source": [
        "my_dict = read_json_file(\"sbir-search-results.json\")"
      ],
      "metadata": {
        "id": "l_UfWQFiRysj"
      },
      "execution_count": null,
      "outputs": []
    },
    {
      "cell_type": "code",
      "source": [
        "for i in my_dict:\n",
        "  if i['State']=='WA':\n",
        "     print(i)"
      ],
      "metadata": {
        "colab": {
          "base_uri": "https://localhost:8080/"
        },
        "id": "My3yuIuEvpK5",
        "outputId": "437d0175-f5ae-48cf-e0dd-8e45ba8e50a4"
      },
      "execution_count": null,
      "outputs": [
        {
          "output_type": "stream",
          "name": "stdout",
          "text": [
            "{'Company': 'PHASE GENOMICS, INC.', 'Award_Title': 'Therapeutic phage host-range prediction using proximity-guided metagenomics and artificial intelligence', 'Agency': 'Department of Health and Human Services', 'Branch': 'National Institutes of Health', 'Phase': 'Phase II', 'Program': 'SBIR', 'Agency_Tracking_Number': 'R44AI172703', 'Contract': '1R44AI172703-01', 'Proposal_Award_Date': 'June 01, 2022', 'Contract_End_Date': 'May 31, 2024', 'Solicitation_Number': 'PA21-259', 'Solicitation_Year': '2021', 'Topic_Code': 'NIAID', 'Award_Year': '2022', 'Award_Amount': '995873.00', 'DUNS': '079752735', 'Hubzone_Owned': 'N', 'Socially_and_Economically_Disadvantaged': 'N', 'Woman_Owned': 'N', 'Number_Employees': '', 'Company_Website': '', 'Address1': '5727 40TH AVE NE', 'Address2': '', 'City': 'Seattle', 'State': 'WA', 'Zip': '98105-2218', 'Contact_Name': 'KAYLA YOUNG ', 'Contact_Title': '', 'Contact_Phone': '(833) 742-7436', 'Contact_Email': 'kayla@phasegenomics.com', 'PI_Name': 'IVAN LIACHKO ', 'PI_Title': '', 'PI_Phone': '(206) 384-6228', 'PI_Email': 'ivan@phasegenomics.com', 'RI_Name': '', 'RI_POC_Name': '', 'RI_POC_Phone': '', 'Research_Keywords': '', 'Abstract': 'ABSTRACT\\nThere is growing interest in the therapeutic application of phage for treatments of antibiotic-resistant infections\\nand gut microbiome-related disorders. Phage therapies have the advantage of potentially extreme specificity for\\ntheir targets leading to very little in the way of off-target side effects when compared with traditional antibiotic\\ntherapy. However, the identification of phage that target an organism of interest and determining host range\\nremains a technical challenge. Host assignment for a phage typically requires laboratory culture of the organism\\nof interest, a significant barrier when trying to target organisms which are difficult to culture, and introducing\\nsignificant biases into the existing phage-host knowledge base. And like antibiotics, it is possible that organisms\\ncan acquire resistance to phage transduction, limiting the utility of a single phage to treat an infection over time.\\nFor these reasons it would be highly beneficial to have the ability to identify phage with potentially therapeutic\\ntargets efficiently from an uncultured population of microbes.\\nIn this application, we propose to develop a machine-learning based platform for the identification and\\nassignment of phage and their hosts from metagenomic whole genome sequencing (WGS) data. Our approach\\nleverages the unique property of proximity ligation sequencing, or Hi-C, to efficiently gather direct physical\\nevidence of phage-host associations from mixed microbial communities. We propose to use this technology to\\nassemble a large-scale, high-quality phage-host interaction dataset from human fecal samples, use it to train a\\nmachine learning model to predict phage-host relationships from existing WGS data, and provide a convenient\\nplatform for users to input metagenomic reads to receive phage-host information. This approach would enable\\nthe identification of phage and combinations of phage to simultaneously target organisms that are otherwise\\nuntractable through standard clinical methods from both existing and future WGS data sets.'}\n",
            "{'Company': 'PATHWARE INC.', 'Award_Title': 'Harnessing Coded Ptychography to Deliver AI-powered Evaluation of Unstained Lung Biopsies at the Point-Of-Care', 'Agency': 'Department of Health and Human Services', 'Branch': 'National Institutes of Health', 'Phase': 'Phase I', 'Program': 'SBIR', 'Agency_Tracking_Number': 'R43CA278604', 'Contract': '1R43CA278604-01', 'Proposal_Award_Date': 'September 07, 2022', 'Contract_End_Date': 'August 31, 2023', 'Solicitation_Number': 'PA21-259', 'Solicitation_Year': '2021', 'Topic_Code': '102', 'Award_Year': '2022', 'Award_Amount': '399583.00', 'DUNS': '054749447', 'Hubzone_Owned': 'N', 'Socially_and_Economically_Disadvantaged': 'N', 'Woman_Owned': 'N', 'Number_Employees': '', 'Company_Website': '', 'Address1': '3131 WESTERN AVE STE M503', 'Address2': '', 'City': 'Seattle', 'State': 'WA', 'Zip': '98121-1098', 'Contact_Name': 'MICHAEL MOORE ', 'Contact_Title': '', 'Contact_Phone': '(678) 266-2816', 'Contact_Email': 'grants@pathware.com', 'PI_Name': 'TORSTEN LYON ', 'PI_Title': '', 'PI_Phone': '(303) 594-3666', 'PI_Email': 'torsten.lyon@pathware.com', 'RI_Name': '', 'RI_POC_Name': '', 'RI_POC_Phone': '', 'Research_Keywords': '', 'Abstract': 'Project SummaryThis Small Business Innovation Research (SBIR) Phase I project aims to develop an\\nimaging platform to analyze lung biopsy samples at the point of care. The system will\\nimmediately digitize unstained specimens and utilize computer-assisted detection/diagnostics to\\nenable quick and efficient evaluations of samples by pathologists. The broad, long-term\\nobjective of this proposed research is to enable real-time diagnostics of pathology samples at\\nthe point-of-care.Early diagnosis and treatment of lung cancer is essential; the survival rate is low and is\\nhighly dependent on the stage of the disease. Primary diagnoses through microscopic analysis\\nof biopsies (FNAs) have a 20-40% failure rate due to inadequate specimens. As a result, repeat\\nbiopsies must be performed causing delays in diagnosis and treatment up to 90 days, which is\\nenough time for cancer to upstage and can reduce survivability by as much as 20%. Rapid-\\nonsite (ROSE) assessment of the adequacy by a pathologist can guarantee the diagnostic\\nquality of biopsies but is performed in lt10% of lung biopsies due to financial and operational\\nbarriers.In this project, we propose to overcome the historical barriers to ROSE to standardize\\nthe procedure for lung biopsies. This can be accomplished with two key innovations: (i) the\\nApplication of a novel microscopy modality (coded ptychography microscopy - CPM) for digital\\npathology; and (ii) imaging and automated analysis of unstained lung FNAs using Artificial\\nIntelligence (AI) object detection algorithms. Preliminary work on thyroid FNAs indicates that\\nCPM can produce super-resolution quantitative phase images (QPIs) with well-visualized\\ncellularity on unstained slides. A multiwavelength compact prototype will be built and tested to\\noptimize image quality and speed on unstained lung FNAs. After demonstrating reproducible\\nhigh-quality images, object detection algorithms will be trained and validated on unstained QPIs,\\nand will direct pathologists to areas of interest for quick analysis. Adequacy assessments made\\nwith and without AI object detection assistance will be compared to demonstrate the clinical\\nvalidity. The data produced in this feasibility study will fast-track product development and serve\\nas the foundation for clinical validation. Successful completion of this work is a key step in the\\nlong-term goal of increasing the availability of pathology services worldwide in a concerted effort to\\nreduce cancer-associated mortality.'}\n"
          ]
        }
      ]
    },
    {
      "cell_type": "code",
      "source": [
        "import csv\n",
        "\n",
        "def read_csv_file(filename):\n",
        "    with open(filename, newline='') as file:\n",
        "        reader = csv.DictReader(file)\n",
        "        data = []\n",
        "        for row in reader:\n",
        "            data.append(row)\n",
        "    return data"
      ],
      "metadata": {
        "id": "_ByA7tHBUf4-"
      },
      "execution_count": null,
      "outputs": []
    },
    {
      "cell_type": "code",
      "source": [
        "my_list_of_dicts = read_csv_file(\"1680729288_export.csv\")"
      ],
      "metadata": {
        "id": "uhzYt-RJUzsY"
      },
      "execution_count": null,
      "outputs": []
    },
    {
      "cell_type": "code",
      "source": [
        "my_list_of_dicts[:1]"
      ],
      "metadata": {
        "colab": {
          "base_uri": "https://localhost:8080/"
        },
        "id": "q8vR4dmLU_n7",
        "outputId": "6545a572-762e-4dd3-90aa-40bc563900e9"
      },
      "execution_count": null,
      "outputs": [
        {
          "output_type": "execute_result",
          "data": {
            "text/plain": [
              "[{'Record #': '1',\n",
              "  'Company Name': 'ADVANCED COOLING TECHNOLOGIES INC',\n",
              "  'UEI': 'Z8KVZV3DR7J4',\n",
              "  '# of Awards': '21',\n",
              "  'Address 1': '1046 NEW HOLLAND AVE',\n",
              "  'Address 2': '',\n",
              "  'City': 'LANCASTER',\n",
              "  'State': 'PA',\n",
              "  'Zip': '17601-5606',\n",
              "  'HUBZone Owned': 'No',\n",
              "  'Socially and Economically Disadvantaged': 'No',\n",
              "  'Woman Owned': 'No',\n",
              "  'Company Website': 'http://www.1-ACT.com'}]"
            ]
          },
          "metadata": {},
          "execution_count": 25
        }
      ]
    },
    {
      "cell_type": "code",
      "source": [
        "def add_awards_to_firm(my_dict, my_list_of_dicts):\n",
        "    for award in my_dict:\n",
        "        for row in my_list_of_dicts:\n",
        "            if row['Company Name'] == award['Company']:\n",
        "                award['number_awards'] = row['# of Awards']\n",
        "                break\n",
        "    return my_dict"
      ],
      "metadata": {
        "id": "Vcfl5Vw-Vck-"
      },
      "execution_count": null,
      "outputs": []
    },
    {
      "cell_type": "code",
      "source": [
        "my_dict_with_awards = add_awards_to_firm(my_dict, my_list_of_dicts)"
      ],
      "metadata": {
        "id": "ceJYDZvQVwnp"
      },
      "execution_count": null,
      "outputs": []
    },
    {
      "cell_type": "code",
      "source": [
        "company_funding = {}\n",
        "company_awards = {}\n",
        "for f in my_dict_with_awards:\n",
        "  if 'number_awards' in f:\n",
        "    if f['Company'] in company_funding:\n",
        "      company_funding[f['Company']]=float(company_funding[f['Company']])+float(f['Award_Amount'])\n",
        "    else:\n",
        "      company_funding[f['Company']]=float(f['Award_Amount'])\n",
        "    company_awards[f['Company']]=int(f['number_awards'])\n",
        "\n",
        "    #print(f['Company'],f['Award_Amount'],f['number_awards'])"
      ],
      "metadata": {
        "id": "EGu-RXDeV1H0"
      },
      "execution_count": null,
      "outputs": []
    },
    {
      "cell_type": "code",
      "source": [
        "data = []\n",
        "for company in company_awards:\n",
        "  #print('\"'+company+'\"',company_awards[company],company_funding[company],sep=',',)\n",
        "  data.append([company,company_awards[company],company_funding[company]])"
      ],
      "metadata": {
        "id": "HOgUCEjoWA9a"
      },
      "execution_count": null,
      "outputs": []
    },
    {
      "cell_type": "code",
      "source": [
        "data"
      ],
      "metadata": {
        "colab": {
          "base_uri": "https://localhost:8080/"
        },
        "id": "FDsuIW9YoAin",
        "outputId": "1a0d79cc-5805-4ad9-93b3-6337ddc145a9"
      },
      "execution_count": null,
      "outputs": [
        {
          "output_type": "execute_result",
          "data": {
            "text/plain": [
              "[['SOAR TECHNOLOGY INC', 18, 2884411.0],\n",
              " ['SPECTRAL ENERGIES LLC', 19, 349634.0],\n",
              " ['ALPHACORE INC', 23, 199922.0],\n",
              " ['Space Micro Inc.', 12, 399249.69],\n",
              " ['Arete Associates', 24, 154891.0],\n",
              " ['APTIMA INC', 13, 1499341.9],\n",
              " ['INTELLISENSE SYSTEMS INC', 39, 3826758.04],\n",
              " ['LYNNTECH INC', 27, 1023849.0],\n",
              " ['TOYON RESEARCH CORPORATION', 26, 649999.0],\n",
              " ['Nou Systems, Inc.', 12, 464987.0],\n",
              " ['SCIENTIFIC SYSTEMS CO INC', 18, 149994.0],\n",
              " ['Radiation Monitoring Devices, Inc.', 21, 1485777.0],\n",
              " ['Stottler Henke Associates, Inc.', 13, 139946.0]]"
            ]
          },
          "metadata": {},
          "execution_count": 30
        }
      ]
    },
    {
      "cell_type": "code",
      "source": [
        "data2=[['SOAR TECHNOLOGY INC', 18, 2884411.0],\n",
        " ['SPECTRAL ENERGIES LLC', 19, 349634.0],\n",
        " ['ALPHACORE INC', 23, 199922.0],\n",
        " ['Space Micro Inc.', 12, 399249.69],\n",
        " ['Arete Associates', 24, 154891.0],\n",
        " ['APTIMA INC', 13, 1499341.9],\n",
        " ['INTELLISENSE SYSTEMS INC', 39, 3826758.04],\n",
        " ['LYNNTECH INC', 27, 1023849.0],\n",
        " ['TOYON RESEARCH CORPORATION', 26, 649999.0],\n",
        " ['Nou Systems, Inc.', 12, 464987.0],\n",
        " ['SCIENTIFIC SYSTEMS CO INC', 18, 149994.0],\n",
        " ['Radiation Monitoring Devices, Inc.', 21, 1485777.0],\n",
        " ['Stottler Henke Associates, Inc.', 13, 139946.0]]"
      ],
      "metadata": {
        "id": "KO2nL_glrS7g"
      },
      "execution_count": null,
      "outputs": []
    },
    {
      "cell_type": "code",
      "source": [
        "import matplotlib.pyplot as plt"
      ],
      "metadata": {
        "id": "EHh-llYRj-ph"
      },
      "execution_count": null,
      "outputs": []
    },
    {
      "cell_type": "code",
      "source": [
        "data2"
      ],
      "metadata": {
        "colab": {
          "base_uri": "https://localhost:8080/"
        },
        "id": "h_yjNG-DrVoE",
        "outputId": "e62ad203-46ee-402e-eeca-fd20c483273e"
      },
      "execution_count": null,
      "outputs": [
        {
          "output_type": "execute_result",
          "data": {
            "text/plain": [
              "[['SOAR TECHNOLOGY INC', 18, 2884411.0],\n",
              " ['SPECTRAL ENERGIES LLC', 19, 349634.0],\n",
              " ['ALPHACORE INC', 23, 199922.0],\n",
              " ['Space Micro Inc.', 12, 399249.69],\n",
              " ['Arete Associates', 24, 154891.0],\n",
              " ['APTIMA INC', 13, 1499341.9],\n",
              " ['INTELLISENSE SYSTEMS INC', 39, 3826758.04],\n",
              " ['LYNNTECH INC', 27, 1023849.0],\n",
              " ['TOYON RESEARCH CORPORATION', 26, 649999.0],\n",
              " ['Nou Systems, Inc.', 12, 464987.0],\n",
              " ['SCIENTIFIC SYSTEMS CO INC', 18, 149994.0],\n",
              " ['Radiation Monitoring Devices, Inc.', 21, 1485777.0],\n",
              " ['Stottler Henke Associates, Inc.', 13, 139946.0]]"
            ]
          },
          "metadata": {},
          "execution_count": 22
        }
      ]
    },
    {
      "cell_type": "code",
      "source": [
        "x_data = [company_awards[row] for row in company_awards]\n",
        "y_data = [company_funding[row] for row in company_funding]\n",
        "\n",
        "x_data = [row[1] for row in data]\n",
        "y_data = [row[2] for row in data]\n",
        "\n",
        "# Define the labels\n",
        "x_label = \"Number of Awards\"\n",
        "y_label = \"Dollar Amount\"\n",
        "\n",
        "# Define the title\n",
        "title = \"Awarded Contracts\"\n",
        "\n",
        "# Plot the data as a scatter plot\n",
        "plt.scatter(x_data, y_data)\n",
        "plt.xlabel(x_label)\n",
        "plt.ylabel(y_label)\n",
        "plt.title(title)\n",
        "\n",
        "# Add labels to each point\n",
        "for i in range(len(data)):\n",
        "    #plt.annotate(i, xy=(company_awards[i], company_funding[i]), xytext=(5, 5), textcoords=\"offset points\")\n",
        "    plt.annotate(''.join(data[i][0]), xy=(data[i][1], data[i][2]), xytext=(5, 5), textcoords=\"offset points\")\n",
        "\n",
        "# Show the plot\n",
        "plt.show()"
      ],
      "metadata": {
        "colab": {
          "base_uri": "https://localhost:8080/",
          "height": 472
        },
        "id": "Wjk2NmgGlfQH",
        "outputId": "d916bb22-505a-4c3c-bffa-cc0cbaebe288"
      },
      "execution_count": null,
      "outputs": [
        {
          "output_type": "display_data",
          "data": {
            "text/plain": [
              "<Figure size 640x480 with 1 Axes>"
            ],
            "image/png": "[encoded data removed]"
          },
          "metadata": {}
        }
      ]
    },
    {
      "cell_type": "code",
      "source": [],
      "metadata": {
        "id": "1G8dGMH-nq7P"
      },
      "execution_count": null,
      "outputs": []
    }
  ]
}